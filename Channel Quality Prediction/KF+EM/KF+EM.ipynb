{
 "cells": [
  {
   "cell_type": "code",
   "execution_count": 78,
   "metadata": {},
   "outputs": [
    {
     "name": "stdout",
     "output_type": "stream",
     "text": [
      "[[11 11 11 ...  9  8  8]\n",
      " [11 11 11 ...  9  8  8]\n",
      " [11 11 11 ...  9  8  8]\n",
      " ...\n",
      " [ 7  6  5 ...  7  7  8]\n",
      " [ 7  6  5 ...  7  7  8]\n",
      " [ 7  6  5 ...  7  7  8]]\n"
     ]
    }
   ],
   "source": [
    "from pykalman import KalmanFilter\n",
    "import numpy as np\n",
    "\n",
    "#load data (CQI_30 or CQI_10)\n",
    "original_data = np.loadtxt(\"CQI_30\",dtype='int32',delimiter=',')\n",
    "print(original_data)"
   ]
  },
  {
   "cell_type": "code",
   "execution_count": 79,
   "metadata": {},
   "outputs": [
    {
     "name": "stdout",
     "output_type": "stream",
     "text": [
      "hit:84419\n",
      "data:215389\n",
      "accuracy:0.39193737841765364\n"
     ]
    }
   ],
   "source": [
    "label = [2,4,6,8,12]\n",
    "hit = 0\n",
    "\n",
    "\n",
    "for i in range(original_data.shape[0]):\n",
    "    \n",
    "    # declare which variable EM should update\n",
    "    kf = KalmanFilter(\n",
    "      em_vars=[\n",
    "      'transition_matrices', 'observation_matrices',\n",
    "      'transition_covariance', 'observation_covariance',\n",
    "       'initial_state_mean',\n",
    "      'initial_state_covariance'\n",
    "    ])\n",
    "    \n",
    "    measurements = np.asarray(original_data[i])\n",
    "    \n",
    "    # generate a KF+EM model with iteraion = x, which means there would be x iteration between KF and EM\n",
    "    kf = kf.em(measurements, n_iter=5)\n",
    "    \n",
    "    # calculate the filtered_state_means and filtered_state_covariances of each observation in i row of measurements\n",
    "    (filtered_state_means, filtered_state_covariances) = kf.filter(measurements)\n",
    "    \n",
    "    # calculate the next filtered_state_means and filtered_state_covariances of the last filtered_state_means \n",
    "    # and filtered_state_covariances of each row\n",
    "    (next_mean, next_covariance) = kf.filter_update(filtered_state_means[-2], filtered_state_covariances[-2])\n",
    "    \n",
    "    # calculate the prediction with the formula\n",
    "    predict = next_mean*kf.observation_matrices+kf.observation_offsets\n",
    "    \n",
    "    # determine which label([2,4,6,8,12]) the predict is\n",
    "    smallest = 20\n",
    "    target = 0\n",
    "    for j in range(len(label)):\n",
    "        gap = abs(label[j]-predict)\n",
    "        if gap < smallest:\n",
    "            smallest = gap\n",
    "            target = int(label[j])\n",
    "    predict = target\n",
    "    \n",
    "    # calculate the hit\n",
    "    if predict == original_data[i,-1]:\n",
    "        hit += 1\n",
    "        \n",
    "# run only one row to test and see the result of prediction\n",
    "\"\"\"       \n",
    "        \n",
    "kf = KalmanFilter(\n",
    "      em_vars=[\n",
    "      'transition_matrices', 'observation_matrices',\n",
    "      'transition_covariance', 'observation_covariance',\n",
    "       'initial_state_mean',\n",
    "      'initial_state_covariance'\n",
    "    ])\n",
    "measurements = np.asarray(original_data[0])\n",
    "kf = kf.em(measurements, n_iter=5)\n",
    "(filtered_state_means, filtered_state_covariances) = kf.filter(measurements)\n",
    "#(smoothed_state_means, smoothed_state_covariances) = kf.smooth(measurements)\n",
    "(next_mean, next_covariance) = kf.filter_update(filtered_state_means[-2], filtered_state_covariances[-2])\n",
    "predict = next_mean*kf.observation_matrices+kf.observation_offsets\n",
    "\n",
    "\n",
    "smallest = 20\n",
    "target = 0\n",
    "for j in range(len(label)):\n",
    "    gap = abs(label[j]-predict)\n",
    "    if gap < smallest:\n",
    "        smallest = gap\n",
    "        target = int(label[j])\n",
    "predict = target\n",
    "if predict == original_data[0,-1]:\n",
    "    hit += 1\n",
    "\n",
    "print(\"filtered_state_means[-2]:\"+ str(filtered_state_means[-2]))\n",
    "print(\"next filtered_state_mean:\"+ str(next_mean))\n",
    "print(\"predict:\"+ str(predict))\n",
    "print(\"label:\"+ str(original_data[0,-1]))\n",
    "\n",
    "\"\"\"\n",
    "\n",
    "print(\"hit:\"+ str(hit))\n",
    "print(\"data:\"+ str(original_data.shape[0]))\n",
    "print(\"accuracy:\"+ str(hit/original_data.shape[0]))"
   ]
  },
  {
   "cell_type": "code",
   "execution_count": null,
   "metadata": {},
   "outputs": [],
   "source": []
  },
  {
   "cell_type": "code",
   "execution_count": null,
   "metadata": {},
   "outputs": [],
   "source": []
  }
 ],
 "metadata": {
  "kernelspec": {
   "display_name": "Python [default]",
   "language": "python",
   "name": "python3"
  },
  "language_info": {
   "codemirror_mode": {
    "name": "ipython",
    "version": 3
   },
   "file_extension": ".py",
   "mimetype": "text/x-python",
   "name": "python",
   "nbconvert_exporter": "python",
   "pygments_lexer": "ipython3",
   "version": "3.5.4"
  }
 },
 "nbformat": 4,
 "nbformat_minor": 2
}
