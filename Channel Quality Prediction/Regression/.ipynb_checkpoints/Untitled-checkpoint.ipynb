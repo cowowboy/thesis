{
 "cells": [
  {
   "cell_type": "code",
   "execution_count": 8,
   "metadata": {},
   "outputs": [
    {
     "name": "stdout",
     "output_type": "stream",
     "text": [
      "[[11 11 11 ...  9  8  8]\n",
      " [11 11 11 ...  9  8  8]\n",
      " [11 11 11 ...  9  8  8]\n",
      " ...\n",
      " [ 7  6  5 ...  7  7  8]\n",
      " [ 7  6  5 ...  7  7  8]\n",
      " [ 7  6  5 ...  7  7  8]]\n",
      "[ 7  7  9  9 10 10  9  8  8  9 10 11 10  9  8  5  6  8  9  9  8  6  5  6]\n"
     ]
    }
   ],
   "source": [
    "import numpy as np\n",
    "from sklearn.preprocessing import PolynomialFeatures\n",
    "from sklearn.linear_model import LinearRegression\n",
    "from sklearn.pipeline import make_pipeline\n",
    "import numpy as np\n",
    "\n",
    "data = np.loadtxt(\"CQI_30\",dtype='int32',delimiter=',')\n",
    "print(data)\n",
    "print(data[27,6:-1])"
   ]
  },
  {
   "cell_type": "code",
   "execution_count": null,
   "metadata": {},
   "outputs": [],
   "source": [
    "window = 2\n",
    "iteration = 4\n",
    "\n",
    "label = [2,4,6,8,12]\n",
    "hit = 0\n",
    "\n",
    "\n",
    "\"\"\"\n",
    "model = make_pipeline(PolynomialFeatures(degree=3), LinearRegression(fit_intercept = True))\n",
    "\n",
    "X=np.array(data[27,:9]).reshape(-1,1)\n",
    "\n",
    "#X=np.array([[data[27,0],data[27,1]],\n",
    "#            [data[27,1],data[27,2]],\n",
    "#            [data[27,2],data[27,3]],\n",
    "#            [data[27,3],data[27,4]]])\n",
    "print(X)\n",
    "Y=np.array(data[27,1:-1])\n",
    "print(Y)\n",
    "\n",
    "model.fit(X,Y)\n",
    "X_predict = np.array([[data[27,9]]])\n",
    "Y_predict = model.predict(X_predict)\n",
    "\n",
    "print(Y_predict)\n",
    "\n",
    "\"\"\"\n",
    "\n",
    "for i in range(data.shape[0]):\n",
    "    model = make_pipeline(PolynomialFeatures(degree=1), LinearRegression(fit_intercept = False))\n",
    "\n",
    "    #X=np.array(data[i,:8]).reshape(-1,1)\n",
    "    \"\"\"\n",
    "    X=np.array([[data[i,0],data[i,1]],\n",
    "                [data[i,1],data[i,2]],\n",
    "                [data[i,2],data[i,3]]])\n",
    "    \"\"\"\n",
    "    X=np.zeros((23,2))\n",
    "    \n",
    "    for m in range(X.shape[0]):\n",
    "        X[m,0] = data[i,m]\n",
    "        X[m,1] = data[i,m+1]\n",
    "    \n",
    "    Y=np.array(data[i,7:-1])\n",
    "\n",
    "    model.fit(X,Y)\n",
    "    #X_predict = np.array(data[i,9])\n",
    "    X_predict = np.array([[data[i,28],data[i,29]]])\n",
    "    \n",
    "    predict = model.predict(X_predict)\n",
    "    \n",
    "    smallest = 20\n",
    "    target = 0\n",
    "    for j in range(len(label)):\n",
    "        gap = abs(label[j]-predict)\n",
    "        if gap < smallest:\n",
    "            smallest = gap\n",
    "            target = int(label[j])\n",
    "    predict = target\n",
    "    if predict == data[i,-1]:\n",
    "        hit += 1\n",
    "        \n",
    "        \n",
    "print(\"hit:\"+ str(hit))\n",
    "print(\"data:\"+ str(data.shape[0]))\n",
    "print(\"accuracy:\"+ str(hit/data.shape[0]))\n",
    "\n"
   ]
  },
  {
   "cell_type": "code",
   "execution_count": null,
   "metadata": {},
   "outputs": [],
   "source": []
  }
 ],
 "metadata": {
  "kernelspec": {
   "display_name": "Python [default]",
   "language": "python",
   "name": "python3"
  },
  "language_info": {
   "codemirror_mode": {
    "name": "ipython",
    "version": 3
   },
   "file_extension": ".py",
   "mimetype": "text/x-python",
   "name": "python",
   "nbconvert_exporter": "python",
   "pygments_lexer": "ipython3",
   "version": "3.5.4"
  }
 },
 "nbformat": 4,
 "nbformat_minor": 2
}
