{
 "cells": [
  {
   "cell_type": "code",
   "execution_count": 8,
   "metadata": {},
   "outputs": [
    {
     "name": "stdout",
     "output_type": "stream",
     "text": [
      "[[11 11 11 ...  9  8  8]\n",
      " [11 11 11 ...  9  8  8]\n",
      " [11 11 11 ...  9  8  8]\n",
      " ...\n",
      " [ 7  6  5 ...  7  7  8]\n",
      " [ 7  6  5 ...  7  7  8]\n",
      " [ 7  6  5 ...  7  7  8]]\n",
      "[ 7  7  9  9 10 10  9  8  8  9 10 11 10  9  8  5  6  8  9  9  8  6  5  6]\n"
     ]
    }
   ],
   "source": [
    "import numpy as np\n",
    "from sklearn.preprocessing import PolynomialFeatures\n",
    "from sklearn.linear_model import LinearRegression\n",
    "from sklearn.pipeline import make_pipeline\n",
    "import numpy as np\n",
    "\n",
    "#load data (CQI_30 or CQI_10)\n",
    "data = np.loadtxt(\"CQI_30\",dtype='int32',delimiter=',')\n",
    "print(data)"
   ]
  },
  {
   "cell_type": "code",
   "execution_count": 13,
   "metadata": {},
   "outputs": [
    {
     "name": "stdout",
     "output_type": "stream",
     "text": [
      "hit:88501\n",
      "data:215389\n",
      "accuracy:0.4108891354711708\n"
     ]
    }
   ],
   "source": [
    "\n",
    "label = [2,4,6,8,12]\n",
    "hit = 0\n",
    "\n",
    "# run only one row to test and see the result of prediction\n",
    "\"\"\"\n",
    "model = make_pipeline(PolynomialFeatures(degree=3), LinearRegression(fit_intercept = True))\n",
    "\n",
    "X=np.array(data[27,:9]).reshape(-1,1)\n",
    "\n",
    "#X=np.array([[data[27,0],data[27,1]],\n",
    "#            [data[27,1],data[27,2]],\n",
    "#            [data[27,2],data[27,3]],\n",
    "#            [data[27,3],data[27,4]]])\n",
    "print(X)\n",
    "Y=np.array(data[27,1:-1])\n",
    "print(Y)\n",
    "\n",
    "model.fit(X,Y)\n",
    "X_predict = np.array([[data[27,9]]])\n",
    "Y_predict = model.predict(X_predict)\n",
    "\n",
    "print(Y_predict)\n",
    "\n",
    "\"\"\"\n",
    "# predict and test every row , and finally calculate the accuracy\n",
    "\n",
    "for i in range(data.shape[0]):\n",
    "    \n",
    "    # generate a regression model with degree = x\n",
    "    model = make_pipeline(PolynomialFeatures(degree=1), LinearRegression(fit_intercept = False))\n",
    "    \n",
    "    # generate a 23*2 Matrix with all value of zero\n",
    "    X=np.zeros((23,2))\n",
    "    \n",
    "    # assign value to the Matrix\n",
    "    for m in range(X.shape[0]):\n",
    "        X[m,0] = data[i,m]\n",
    "        X[m,1] = data[i,m+1]\n",
    "    \n",
    "    # assign value to Matrix Y as \"label\" of X\n",
    "    Y=np.array(data[i,7:-1])\n",
    "    \n",
    "    # Training\n",
    "    model.fit(X,Y)\n",
    "    \n",
    "    \n",
    "    X_predict = np.array([[data[i,28],data[i,29]]])\n",
    "    \n",
    "    # Predict the label of X_predict\n",
    "    predict = model.predict(X_predict)\n",
    "    \n",
    "    # determine which label([2,4,6,8,12]) the predict is\n",
    "    smallest = 20\n",
    "    target = 0\n",
    "    for j in range(len(label)):\n",
    "        gap = abs(label[j]-predict)\n",
    "        if gap < smallest:\n",
    "            smallest = gap\n",
    "            target = int(label[j])\n",
    "    predict = target  \n",
    "    \n",
    "    # calculate the hit\n",
    "    if predict == data[i,-1]:\n",
    "        hit += 1\n",
    "        \n",
    "        \n",
    "print(\"hit:\"+ str(hit))\n",
    "print(\"data:\"+ str(data.shape[0]))\n",
    "print(\"accuracy:\"+ str(hit/data.shape[0]))\n",
    "\n"
   ]
  },
  {
   "cell_type": "code",
   "execution_count": null,
   "metadata": {},
   "outputs": [],
   "source": []
  }
 ],
 "metadata": {
  "kernelspec": {
   "display_name": "Python [default]",
   "language": "python",
   "name": "python3"
  },
  "language_info": {
   "codemirror_mode": {
    "name": "ipython",
    "version": 3
   },
   "file_extension": ".py",
   "mimetype": "text/x-python",
   "name": "python",
   "nbconvert_exporter": "python",
   "pygments_lexer": "ipython3",
   "version": "3.5.4"
  }
 },
 "nbformat": 4,
 "nbformat_minor": 2
}
